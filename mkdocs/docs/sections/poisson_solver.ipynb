{
 "cells": [
  {
   "cell_type": "markdown",
   "id": "1a766c9a",
   "metadata": {},
   "source": [
    "# 🌀 Poisson Pressure Solver\n",
    "\n",
    "This notebook demonstrates a pressure Poisson solver using Jacobi's iterative method for incompressible flows.\n",
    "\n",
    "You can adjust the resolution, tolerance, and maximum number of iterations below and re-run the solver.\n"
   ]
  },
  {
   "cell_type": "code",
   "execution_count": null,
   "id": "799eb5da",
   "metadata": {},
   "outputs": [],
   "source": [
    "import numpy as np\n",
    "import matplotlib.pyplot as plt\n",
    "\n",
    "# 👇 Editable simulation parameters\n",
    "nx = 50         # number of grid points in x\n",
    "ny = 50         # number of grid points in y\n",
    "lx = 1.0        # physical length in x\n",
    "ly = 1.0        # physical length in y\n",
    "rho = 1.0       # fluid density\n",
    "tol = 1e-6      # solver tolerance\n",
    "maxiter = 5000  # maximum number of iterations\n",
    "\n",
    "# Derived grid spacing\n",
    "dx = lx / (nx - 1)\n",
    "dy = ly / (ny - 1)\n",
    "\n",
    "# Initialize pressure and divergence field\n",
    "p = np.zeros((ny, nx))\n",
    "b = np.random.rand(ny, nx) * 0.1  # synthetic divergence source\n"
   ]
  },
  {
   "cell_type": "code",
   "execution_count": null,
   "id": "a723d2b8",
   "metadata": {},
   "outputs": [],
   "source": [
    "def pressure_poisson(p, b, dx, dy, tol, maxiter, rho):\n",
    "    err = np.inf  # Initialize large error\n",
    "    nit = 0  # Iteration counter\n",
    "    pcoef = 0.5 / (dx**2 + dy**2)\n",
    "    b *= rho * dx**2 * dy**2 / (2 * (dx**2 + dy**2))\n",
    "\n",
    "    while err > tol and nit < maxiter:\n",
    "        pn = p.copy()\n",
    "\n",
    "        p[1:-1, 1:-1] = (pcoef * (\n",
    "            (pn[1:-1, 2:] + pn[1:-1, :-2]) * dy**2 +\n",
    "            (pn[2:, 1:-1] + pn[:-2, 1:-1]) * dx**2\n",
    "        ) - b)\n",
    "\n",
    "        # Neumann BCs\n",
    "        p[:, 0] = p[:, 1]\n",
    "        p[:, -1] = -p[:, -2]\n",
    "        p[0, :] = p[1, :]\n",
    "        p[-1, :] = p[-2, :]\n",
    "\n",
    "        err = np.sqrt(np.mean((p[1:-1, 1:-1] - pn[1:-1, 1:-1])**2))\n",
    "        nit += 1\n",
    "\n",
    "    print(f\"Converged in {nit} iterations with RMS error = {err:.2e}\")\n",
    "    return p\n"
   ]
  },
  {
   "cell_type": "code",
   "execution_count": null,
   "id": "81d19b06",
   "metadata": {},
   "outputs": [],
   "source": [
    "p_final = pressure_poisson(p, b, dx, dy, tol, maxiter, rho)"
   ]
  },
  {
   "cell_type": "code",
   "execution_count": null,
   "id": "32d44c11",
   "metadata": {},
   "outputs": [],
   "source": [
    "plt.figure(figsize=(6, 5))\n",
    "plt.contourf(p_final, levels=50, cmap='viridis')\n",
    "plt.colorbar(label='Pressure')\n",
    "plt.title('Pressure Field')\n",
    "plt.xlabel('X')\n",
    "plt.ylabel('Y')\n",
    "plt.axis('equal')\n",
    "plt.tight_layout()\n",
    "plt.show()\n"
   ]
  }
 ],
 "metadata": {},
 "nbformat": 4,
 "nbformat_minor": 5
}
