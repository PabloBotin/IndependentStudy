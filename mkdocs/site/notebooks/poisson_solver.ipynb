{
  "cells": [
    {
      "cell_type": "markdown",
      "id": "1a766c9a",
      "metadata": {
        "id": "1a766c9a"
      },
      "source": [
        "# Poisson Pressure Solver\n",
        "\n",
        "This notebook demonstrates a pressure Poisson solver using Jacobi's iterative method for incompressible flows.\n",
        "\n",
        "You can adjust the resolution, tolerance, and maximum number of iterations below and re-run the solver.\n"
      ]
    },
    {
      "cell_type": "code",
      "source": [
        "# Import modules\n",
        "import numpy as np\n",
        "import matplotlib.pyplot as plt"
      ],
      "metadata": {
        "id": "GbApHRnDl0_I"
      },
      "id": "GbApHRnDl0_I",
      "execution_count": 1,
      "outputs": []
    },
    {
      "cell_type": "code",
      "execution_count": 9,
      "id": "799eb5da",
      "metadata": {
        "id": "799eb5da"
      },
      "outputs": [],
      "source": [
        "# Editable simulation parameters\n",
        "nx = 50         # number of grid points in x\n",
        "ny = 50         # number of grid points in y\n",
        "lx = 1.0        # physical length in x\n",
        "ly = 1.0        # physical length in y\n",
        "rho = 1.0       # fluid density\n",
        "tol = 1e-6      # solver tolerance\n",
        "maxiter = 5000  # maximum number of iterations"
      ]
    },
    {
      "cell_type": "code",
      "source": [
        "# Define grid spacing\n",
        "dx = lx / (nx - 1)\n",
        "dy = ly / (ny - 1)\n",
        "\n",
        "# Initialize pressure and divergence field\n",
        "p = np.zeros((ny, nx))\n",
        "b = np.random.rand(ny, nx) * 0.1  # synthetic divergence source\n",
        "\n",
        "# Define iterative solver.\n",
        "def pressure_poisson(p, b, dx, dy, tol, maxiter, rho):\n",
        "    err = np.inf  # Initialize large error\n",
        "    nit = 0  # Iteration counter\n",
        "    pcoef = 0.5 / (dx**2 + dy**2)\n",
        "    b *= rho * dx**2 * dy**2 / (2 * (dx**2 + dy**2))\n",
        "\n",
        "    while err > tol and nit < maxiter:\n",
        "        pn = p.copy()\n",
        "\n",
        "        # p[1:-1, 1:-1] = (pcoef * (\n",
        "        #     (pn[1:-1, 2:] + pn[1:-1, :-2]) * dy**2 +\n",
        "        #     (pn[2:, 1:-1] + pn[:-2, 1:-1]) * dx**2\n",
        "        # ) - b)\n",
        "\n",
        "        p[1:-1, 1:-1] = (pcoef * (\n",
        "          (pn[1:-1, 2:] + pn[1:-1, :-2]) * dy**2 +\n",
        "          (pn[2:, 1:-1] + pn[:-2, 1:-1]) * dx**2\n",
        "        ) - b[1:-1, 1:-1])\n",
        "        # Neumann BCs\n",
        "        p[:, 0] = p[:, 1]\n",
        "        p[:, -1] = -p[:, -2]\n",
        "        p[0, :] = p[1, :]\n",
        "        p[-1, :] = p[-2, :]\n",
        "\n",
        "        err = np.sqrt(np.mean((p[1:-1, 1:-1] - pn[1:-1, 1:-1])**2))\n",
        "        nit += 1\n",
        "\n",
        "    print(f\"Converged in {nit} iterations with RMS error = {err:.2e}\")\n",
        "    return p"
      ],
      "metadata": {
        "id": "SQylwZRnmITb"
      },
      "id": "SQylwZRnmITb",
      "execution_count": 13,
      "outputs": []
    },
    {
      "cell_type": "code",
      "execution_count": 14,
      "id": "81d19b06",
      "metadata": {
        "id": "81d19b06",
        "outputId": "667d3e91-11ab-4c78-c23b-fe71c99d2d51",
        "colab": {
          "base_uri": "https://localhost:8080/"
        }
      },
      "outputs": [
        {
          "output_type": "stream",
          "name": "stdout",
          "text": [
            "Converged in 5000 iterations with RMS error = 1.22e-06\n"
          ]
        }
      ],
      "source": [
        "# Run Solver\n",
        "p_final = pressure_poisson(p, b, dx, dy, tol, maxiter, rho)"
      ]
    },
    {
      "cell_type": "code",
      "execution_count": 15,
      "id": "32d44c11",
      "metadata": {
        "id": "32d44c11",
        "outputId": "837b3c64-1f98-4a32-e8d8-c0f900faf2bf",
        "colab": {
          "base_uri": "https://localhost:8080/",
          "height": 507
        }
      },
      "outputs": [
        {
          "output_type": "display_data",
          "data": {
            "text/plain": [
              "<Figure size 600x500 with 2 Axes>"
            ],
            "image/png": "[encoded data removed]"
          },
          "metadata": {}
        }
      ],
      "source": [
        "# Plot Solutions\n",
        "plt.figure(figsize=(6, 5))\n",
        "plt.contourf(p_final, levels=50, cmap='viridis')\n",
        "plt.colorbar(label='Pressure')\n",
        "plt.title('Pressure Field')\n",
        "plt.xlabel('X')\n",
        "plt.ylabel('Y')\n",
        "plt.axis('equal')\n",
        "plt.tight_layout()\n",
        "plt.show()\n"
      ]
    }
  ],
  "metadata": {
    "colab": {
      "provenance": []
    },
    "language_info": {
      "name": "python"
    },
    "kernelspec": {
      "name": "python3",
      "display_name": "Python 3"
    }
  },
  "nbformat": 4,
  "nbformat_minor": 5
}